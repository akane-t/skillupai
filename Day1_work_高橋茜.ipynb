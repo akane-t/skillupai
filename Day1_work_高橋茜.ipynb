{
 "cells": [
  {
   "cell_type": "code",
   "execution_count": 2,
   "metadata": {},
   "outputs": [],
   "source": [
    "%matplotlib inline\n",
    "import pandas as pd\n",
    "import numpy as np\n",
    "from sklearn.linear_model import LinearRegression, SGDClassifier\n",
    "from sklearn.metrics import mean_squared_error, mean_absolute_error # 回帰問題における性能評価に関する関数\n",
    "from  sklearn.metrics import accuracy_score, precision_recall_fscore_support, confusion_matrix # 回帰問題における性能評価に関する関数\n",
    "import seaborn as sns\n",
    "import matplotlib.pyplot as plt\n",
    "from mpl_toolkits.mplot3d import Axes3D\n",
    "from sklearn.linear_model import SGDClassifier\n",
    "from sklearn.metrics import log_loss, accuracy_score, confusion_matrix\n",
    "from sklearn.model_selection import train_test_split"
   ]
  },
  {
   "cell_type": "code",
   "execution_count": 4,
   "metadata": {},
   "outputs": [],
   "source": [
    "df_data = pd.read_csv(\"C:/DAY1_vr3_0_0/ks-projects-201801.csv\")[['goal','pledged','state','backers','usd pledged','usd_pledged_real','usd_goal_real']]"
   ]
  },
  {
   "cell_type": "code",
   "execution_count": 5,
   "metadata": {},
   "outputs": [],
   "source": [
    "df_data['state'] = df_data['state'] == \"successful\""
   ]
  },
  {
   "cell_type": "code",
   "execution_count": 6,
   "metadata": {},
   "outputs": [
    {
     "data": {
      "text/html": [
       "<div>\n",
       "<style scoped>\n",
       "    .dataframe tbody tr th:only-of-type {\n",
       "        vertical-align: middle;\n",
       "    }\n",
       "\n",
       "    .dataframe tbody tr th {\n",
       "        vertical-align: top;\n",
       "    }\n",
       "\n",
       "    .dataframe thead th {\n",
       "        text-align: right;\n",
       "    }\n",
       "</style>\n",
       "<table border=\"1\" class=\"dataframe\">\n",
       "  <thead>\n",
       "    <tr style=\"text-align: right;\">\n",
       "      <th></th>\n",
       "      <th>goal</th>\n",
       "      <th>pledged</th>\n",
       "      <th>state</th>\n",
       "      <th>backers</th>\n",
       "      <th>usd pledged</th>\n",
       "      <th>usd_pledged_real</th>\n",
       "      <th>usd_goal_real</th>\n",
       "    </tr>\n",
       "  </thead>\n",
       "  <tbody>\n",
       "    <tr>\n",
       "      <th>0</th>\n",
       "      <td>1000.0</td>\n",
       "      <td>0.0</td>\n",
       "      <td>False</td>\n",
       "      <td>0</td>\n",
       "      <td>0.0</td>\n",
       "      <td>0.0</td>\n",
       "      <td>1533.95</td>\n",
       "    </tr>\n",
       "    <tr>\n",
       "      <th>1</th>\n",
       "      <td>30000.0</td>\n",
       "      <td>2421.0</td>\n",
       "      <td>False</td>\n",
       "      <td>15</td>\n",
       "      <td>100.0</td>\n",
       "      <td>2421.0</td>\n",
       "      <td>30000.00</td>\n",
       "    </tr>\n",
       "    <tr>\n",
       "      <th>2</th>\n",
       "      <td>45000.0</td>\n",
       "      <td>220.0</td>\n",
       "      <td>False</td>\n",
       "      <td>3</td>\n",
       "      <td>220.0</td>\n",
       "      <td>220.0</td>\n",
       "      <td>45000.00</td>\n",
       "    </tr>\n",
       "    <tr>\n",
       "      <th>3</th>\n",
       "      <td>5000.0</td>\n",
       "      <td>1.0</td>\n",
       "      <td>False</td>\n",
       "      <td>1</td>\n",
       "      <td>1.0</td>\n",
       "      <td>1.0</td>\n",
       "      <td>5000.00</td>\n",
       "    </tr>\n",
       "    <tr>\n",
       "      <th>4</th>\n",
       "      <td>19500.0</td>\n",
       "      <td>1283.0</td>\n",
       "      <td>False</td>\n",
       "      <td>14</td>\n",
       "      <td>1283.0</td>\n",
       "      <td>1283.0</td>\n",
       "      <td>19500.00</td>\n",
       "    </tr>\n",
       "  </tbody>\n",
       "</table>\n",
       "</div>"
      ],
      "text/plain": [
       "      goal  pledged  state  backers  usd pledged  usd_pledged_real  \\\n",
       "0   1000.0      0.0  False        0          0.0               0.0   \n",
       "1  30000.0   2421.0  False       15        100.0            2421.0   \n",
       "2  45000.0    220.0  False        3        220.0             220.0   \n",
       "3   5000.0      1.0  False        1          1.0               1.0   \n",
       "4  19500.0   1283.0  False       14       1283.0            1283.0   \n",
       "\n",
       "   usd_goal_real  \n",
       "0        1533.95  \n",
       "1       30000.00  \n",
       "2       45000.00  \n",
       "3        5000.00  \n",
       "4       19500.00  "
      ]
     },
     "metadata": {},
     "output_type": "display_data"
    },
    {
     "data": {
      "text/html": [
       "<div>\n",
       "<style scoped>\n",
       "    .dataframe tbody tr th:only-of-type {\n",
       "        vertical-align: middle;\n",
       "    }\n",
       "\n",
       "    .dataframe tbody tr th {\n",
       "        vertical-align: top;\n",
       "    }\n",
       "\n",
       "    .dataframe thead th {\n",
       "        text-align: right;\n",
       "    }\n",
       "</style>\n",
       "<table border=\"1\" class=\"dataframe\">\n",
       "  <thead>\n",
       "    <tr style=\"text-align: right;\">\n",
       "      <th></th>\n",
       "      <th>goal</th>\n",
       "      <th>pledged</th>\n",
       "      <th>backers</th>\n",
       "      <th>usd pledged</th>\n",
       "      <th>usd_pledged_real</th>\n",
       "      <th>usd_goal_real</th>\n",
       "    </tr>\n",
       "  </thead>\n",
       "  <tbody>\n",
       "    <tr>\n",
       "      <th>count</th>\n",
       "      <td>3.786610e+05</td>\n",
       "      <td>3.786610e+05</td>\n",
       "      <td>378661.000000</td>\n",
       "      <td>3.748640e+05</td>\n",
       "      <td>3.786610e+05</td>\n",
       "      <td>3.786610e+05</td>\n",
       "    </tr>\n",
       "    <tr>\n",
       "      <th>mean</th>\n",
       "      <td>4.908079e+04</td>\n",
       "      <td>9.682979e+03</td>\n",
       "      <td>105.617476</td>\n",
       "      <td>7.036729e+03</td>\n",
       "      <td>9.058924e+03</td>\n",
       "      <td>4.545440e+04</td>\n",
       "    </tr>\n",
       "    <tr>\n",
       "      <th>std</th>\n",
       "      <td>1.183391e+06</td>\n",
       "      <td>9.563601e+04</td>\n",
       "      <td>907.185035</td>\n",
       "      <td>7.863975e+04</td>\n",
       "      <td>9.097334e+04</td>\n",
       "      <td>1.152950e+06</td>\n",
       "    </tr>\n",
       "    <tr>\n",
       "      <th>min</th>\n",
       "      <td>1.000000e-02</td>\n",
       "      <td>0.000000e+00</td>\n",
       "      <td>0.000000</td>\n",
       "      <td>0.000000e+00</td>\n",
       "      <td>0.000000e+00</td>\n",
       "      <td>1.000000e-02</td>\n",
       "    </tr>\n",
       "    <tr>\n",
       "      <th>25%</th>\n",
       "      <td>2.000000e+03</td>\n",
       "      <td>3.000000e+01</td>\n",
       "      <td>2.000000</td>\n",
       "      <td>1.698000e+01</td>\n",
       "      <td>3.100000e+01</td>\n",
       "      <td>2.000000e+03</td>\n",
       "    </tr>\n",
       "    <tr>\n",
       "      <th>50%</th>\n",
       "      <td>5.200000e+03</td>\n",
       "      <td>6.200000e+02</td>\n",
       "      <td>12.000000</td>\n",
       "      <td>3.947200e+02</td>\n",
       "      <td>6.243300e+02</td>\n",
       "      <td>5.500000e+03</td>\n",
       "    </tr>\n",
       "    <tr>\n",
       "      <th>75%</th>\n",
       "      <td>1.600000e+04</td>\n",
       "      <td>4.076000e+03</td>\n",
       "      <td>56.000000</td>\n",
       "      <td>3.034090e+03</td>\n",
       "      <td>4.050000e+03</td>\n",
       "      <td>1.550000e+04</td>\n",
       "    </tr>\n",
       "    <tr>\n",
       "      <th>max</th>\n",
       "      <td>1.000000e+08</td>\n",
       "      <td>2.033899e+07</td>\n",
       "      <td>219382.000000</td>\n",
       "      <td>2.033899e+07</td>\n",
       "      <td>2.033899e+07</td>\n",
       "      <td>1.663614e+08</td>\n",
       "    </tr>\n",
       "  </tbody>\n",
       "</table>\n",
       "</div>"
      ],
      "text/plain": [
       "               goal       pledged        backers   usd pledged  \\\n",
       "count  3.786610e+05  3.786610e+05  378661.000000  3.748640e+05   \n",
       "mean   4.908079e+04  9.682979e+03     105.617476  7.036729e+03   \n",
       "std    1.183391e+06  9.563601e+04     907.185035  7.863975e+04   \n",
       "min    1.000000e-02  0.000000e+00       0.000000  0.000000e+00   \n",
       "25%    2.000000e+03  3.000000e+01       2.000000  1.698000e+01   \n",
       "50%    5.200000e+03  6.200000e+02      12.000000  3.947200e+02   \n",
       "75%    1.600000e+04  4.076000e+03      56.000000  3.034090e+03   \n",
       "max    1.000000e+08  2.033899e+07  219382.000000  2.033899e+07   \n",
       "\n",
       "       usd_pledged_real  usd_goal_real  \n",
       "count      3.786610e+05   3.786610e+05  \n",
       "mean       9.058924e+03   4.545440e+04  \n",
       "std        9.097334e+04   1.152950e+06  \n",
       "min        0.000000e+00   1.000000e-02  \n",
       "25%        3.100000e+01   2.000000e+03  \n",
       "50%        6.243300e+02   5.500000e+03  \n",
       "75%        4.050000e+03   1.550000e+04  \n",
       "max        2.033899e+07   1.663614e+08  "
      ]
     },
     "execution_count": 6,
     "metadata": {},
     "output_type": "execute_result"
    }
   ],
   "source": [
    "display(df_data.head())\n",
    "df_data.describe()"
   ]
  },
  {
   "cell_type": "code",
   "execution_count": 7,
   "metadata": {},
   "outputs": [
    {
     "name": "stdout",
     "output_type": "stream",
     "text": [
      "<class 'pandas.core.frame.DataFrame'>\n",
      "RangeIndex: 378661 entries, 0 to 378660\n",
      "Data columns (total 7 columns):\n",
      "goal                378661 non-null float64\n",
      "pledged             378661 non-null float64\n",
      "state               378661 non-null bool\n",
      "backers             378661 non-null int64\n",
      "usd pledged         374864 non-null float64\n",
      "usd_pledged_real    378661 non-null float64\n",
      "usd_goal_real       378661 non-null float64\n",
      "dtypes: bool(1), float64(5), int64(1)\n",
      "memory usage: 17.7 MB\n"
     ]
    }
   ],
   "source": [
    "df_data.info()"
   ]
  },
  {
   "cell_type": "code",
   "execution_count": 8,
   "metadata": {},
   "outputs": [
    {
     "data": {
      "text/html": [
       "<div>\n",
       "<style scoped>\n",
       "    .dataframe tbody tr th:only-of-type {\n",
       "        vertical-align: middle;\n",
       "    }\n",
       "\n",
       "    .dataframe tbody tr th {\n",
       "        vertical-align: top;\n",
       "    }\n",
       "\n",
       "    .dataframe thead th {\n",
       "        text-align: right;\n",
       "    }\n",
       "</style>\n",
       "<table border=\"1\" class=\"dataframe\">\n",
       "  <thead>\n",
       "    <tr style=\"text-align: right;\">\n",
       "      <th></th>\n",
       "      <th>goal</th>\n",
       "      <th>pledged</th>\n",
       "      <th>state</th>\n",
       "      <th>backers</th>\n",
       "      <th>usd pledged</th>\n",
       "      <th>usd_pledged_real</th>\n",
       "      <th>usd_goal_real</th>\n",
       "    </tr>\n",
       "  </thead>\n",
       "  <tbody>\n",
       "    <tr>\n",
       "      <th>goal</th>\n",
       "      <td>1.000000</td>\n",
       "      <td>0.007358</td>\n",
       "      <td>-0.024332</td>\n",
       "      <td>0.004012</td>\n",
       "      <td>0.005534</td>\n",
       "      <td>0.005104</td>\n",
       "      <td>0.942692</td>\n",
       "    </tr>\n",
       "    <tr>\n",
       "      <th>pledged</th>\n",
       "      <td>0.007358</td>\n",
       "      <td>1.000000</td>\n",
       "      <td>0.111534</td>\n",
       "      <td>0.717079</td>\n",
       "      <td>0.857370</td>\n",
       "      <td>0.952843</td>\n",
       "      <td>0.005024</td>\n",
       "    </tr>\n",
       "    <tr>\n",
       "      <th>state</th>\n",
       "      <td>-0.024332</td>\n",
       "      <td>0.111534</td>\n",
       "      <td>1.000000</td>\n",
       "      <td>0.129109</td>\n",
       "      <td>0.097791</td>\n",
       "      <td>0.110704</td>\n",
       "      <td>-0.023052</td>\n",
       "    </tr>\n",
       "    <tr>\n",
       "      <th>backers</th>\n",
       "      <td>0.004012</td>\n",
       "      <td>0.717079</td>\n",
       "      <td>0.129109</td>\n",
       "      <td>1.000000</td>\n",
       "      <td>0.697426</td>\n",
       "      <td>0.752539</td>\n",
       "      <td>0.004517</td>\n",
       "    </tr>\n",
       "    <tr>\n",
       "      <th>usd pledged</th>\n",
       "      <td>0.005534</td>\n",
       "      <td>0.857370</td>\n",
       "      <td>0.097791</td>\n",
       "      <td>0.697426</td>\n",
       "      <td>1.000000</td>\n",
       "      <td>0.907743</td>\n",
       "      <td>0.006172</td>\n",
       "    </tr>\n",
       "    <tr>\n",
       "      <th>usd_pledged_real</th>\n",
       "      <td>0.005104</td>\n",
       "      <td>0.952843</td>\n",
       "      <td>0.110704</td>\n",
       "      <td>0.752539</td>\n",
       "      <td>0.907743</td>\n",
       "      <td>1.000000</td>\n",
       "      <td>0.005596</td>\n",
       "    </tr>\n",
       "    <tr>\n",
       "      <th>usd_goal_real</th>\n",
       "      <td>0.942692</td>\n",
       "      <td>0.005024</td>\n",
       "      <td>-0.023052</td>\n",
       "      <td>0.004517</td>\n",
       "      <td>0.006172</td>\n",
       "      <td>0.005596</td>\n",
       "      <td>1.000000</td>\n",
       "    </tr>\n",
       "  </tbody>\n",
       "</table>\n",
       "</div>"
      ],
      "text/plain": [
       "                      goal   pledged     state   backers  usd pledged  \\\n",
       "goal              1.000000  0.007358 -0.024332  0.004012     0.005534   \n",
       "pledged           0.007358  1.000000  0.111534  0.717079     0.857370   \n",
       "state            -0.024332  0.111534  1.000000  0.129109     0.097791   \n",
       "backers           0.004012  0.717079  0.129109  1.000000     0.697426   \n",
       "usd pledged       0.005534  0.857370  0.097791  0.697426     1.000000   \n",
       "usd_pledged_real  0.005104  0.952843  0.110704  0.752539     0.907743   \n",
       "usd_goal_real     0.942692  0.005024 -0.023052  0.004517     0.006172   \n",
       "\n",
       "                  usd_pledged_real  usd_goal_real  \n",
       "goal                      0.005104       0.942692  \n",
       "pledged                   0.952843       0.005024  \n",
       "state                     0.110704      -0.023052  \n",
       "backers                   0.752539       0.004517  \n",
       "usd pledged               0.907743       0.006172  \n",
       "usd_pledged_real          1.000000       0.005596  \n",
       "usd_goal_real             0.005596       1.000000  "
      ]
     },
     "execution_count": 8,
     "metadata": {},
     "output_type": "execute_result"
    }
   ],
   "source": [
    "# 相関係数を確認\n",
    "df_data.corr()"
   ]
  },
  {
   "cell_type": "code",
   "execution_count": 9,
   "metadata": {},
   "outputs": [
    {
     "data": {
      "image/png": "[encoded data removed]",
      "text/plain": [
       "<Figure size 432x288 with 2 Axes>"
      ]
     },
     "metadata": {
      "needs_background": "light"
     },
     "output_type": "display_data"
    }
   ],
   "source": [
    "# 相関係数をヒートマップにして可視化\n",
    "sns.heatmap(df_data.corr())\n",
    "plt.show()"
   ]
  },
  {
   "cell_type": "code",
   "execution_count": 10,
   "metadata": {},
   "outputs": [],
   "source": [
    "y = df_data[\"state\"].values\n"
   ]
  },
  {
   "cell_type": "code",
   "execution_count": 11,
   "metadata": {},
   "outputs": [],
   "source": [
    "df_col=['state','usd pledged','usd_pledged_real','usd_goal_real']"
   ]
  },
  {
   "cell_type": "code",
   "execution_count": 12,
   "metadata": {},
   "outputs": [],
   "source": [
    "X = df_data.drop(df_col, axis=1).values"
   ]
  },
  {
   "cell_type": "code",
   "execution_count": 13,
   "metadata": {},
   "outputs": [
    {
     "data": {
      "text/plain": [
       "2"
      ]
     },
     "execution_count": 13,
     "metadata": {},
     "output_type": "execute_result"
    }
   ],
   "source": [
    "X.ndim"
   ]
  },
  {
   "cell_type": "code",
   "execution_count": 14,
   "metadata": {},
   "outputs": [
    {
     "data": {
      "text/plain": [
       "(378661, 3)"
      ]
     },
     "execution_count": 14,
     "metadata": {},
     "output_type": "execute_result"
    }
   ],
   "source": [
    "X.shape"
   ]
  },
  {
   "cell_type": "code",
   "execution_count": 18,
   "metadata": {},
   "outputs": [],
   "source": [
    "X_train, X_val, y_train, y_val = train_test_split(X, y, train_size=0.8)\n"
   ]
  },
  {
   "cell_type": "code",
   "execution_count": 20,
   "metadata": {},
   "outputs": [
    {
     "data": {
      "text/plain": [
       "SGDClassifier(alpha=0.0001, average=False, class_weight=None,\n",
       "       early_stopping=False, epsilon=0.1, eta0=0.0, fit_intercept=True,\n",
       "       l1_ratio=0.15, learning_rate='optimal', loss='log', max_iter=10000,\n",
       "       n_iter=None, n_iter_no_change=5, n_jobs=None, penalty='none',\n",
       "       power_t=0.5, random_state=1234, shuffle=True, tol=0.001,\n",
       "       validation_fraction=0.1, verbose=0, warm_start=False)"
      ]
     },
     "execution_count": 20,
     "metadata": {},
     "output_type": "execute_result"
    }
   ],
   "source": [
    "from sklearn.linear_model import LogisticRegression\n",
    "clf = SGDClassifier(loss='log', penalty='none', max_iter=10000, fit_intercept=True, random_state=1234, tol=1e-3)\n",
    "clf.fit(X_train, y_train)\n"
   ]
  },
  {
   "cell_type": "code",
   "execution_count": 62,
   "metadata": {},
   "outputs": [
    {
     "name": "stdout",
     "output_type": "stream",
     "text": [
      "w0 = 683.130, w1 = -67290.567, w2 = 67188.535, w3 = 5616.228\n"
     ]
    }
   ],
   "source": [
    "# 重みを取得して表示\n",
    "w0 = clf.intercept_[0]\n",
    "w1 = clf.coef_[0, 0]\n",
    "w2 = clf.coef_[0, 1]\n",
    "w3 = clf.coef_[0, 2]\n",
    "clf.predict\n",
    "print('w0 = {:.3f}, w1 = {:.3f}, w2 = {:.3f}, w3 = {:.3f}'.format(w0, w1, w2, w3))"
   ]
  },
  {
   "cell_type": "code",
   "execution_count": 25,
   "metadata": {},
   "outputs": [
    {
     "name": "stdout",
     "output_type": "stream",
     "text": [
      "正答率（Accuracy） = 98.878%\n",
      "適合率（Precision） = 99.484%\n",
      "再現率（Recall） = 98.774%\n",
      "F1値（F1-score） = 99.128%\n"
     ]
    }
   ],
   "source": [
    "# ラベルを予測\n",
    "y_train_pred = clf.predict(X_train)\n",
    "y_val_pred = clf.predict(X_val)\n",
    "# 正答率を計算\n",
    "accuracy =  accuracy_score(y_train, y_train_pred)\n",
    "print('正答率（Accuracy） = {:.3f}%'.format(100 * accuracy))\n",
    "# Precision, Recall, F1-scoreを計算\n",
    "precision, recall, f1_score, _ = precision_recall_fscore_support(y_train, y_train_pred)\n",
    "# カテゴリ「2000万以上」に関するPrecision, Recall, F1-scoreを表示\n",
    "print('適合率（Precision） = {:.3f}%'.format(100 * precision[0]))\n",
    "print('再現率（Recall） = {:.3f}%'.format(100 * recall[0]))\n",
    "print('F1値（F1-score） = {:.3f}%'.format(100 * f1_score[0]))"
   ]
  },
  {
   "cell_type": "code",
   "execution_count": 26,
   "metadata": {},
   "outputs": [
    {
     "data": {
      "text/html": [
       "<div>\n",
       "<style scoped>\n",
       "    .dataframe tbody tr th:only-of-type {\n",
       "        vertical-align: middle;\n",
       "    }\n",
       "\n",
       "    .dataframe tbody tr th {\n",
       "        vertical-align: top;\n",
       "    }\n",
       "\n",
       "    .dataframe thead th {\n",
       "        text-align: right;\n",
       "    }\n",
       "</style>\n",
       "<table border=\"1\" class=\"dataframe\">\n",
       "  <thead>\n",
       "    <tr style=\"text-align: right;\">\n",
       "      <th></th>\n",
       "      <th>成功</th>\n",
       "      <th>失敗</th>\n",
       "    </tr>\n",
       "  </thead>\n",
       "  <tbody>\n",
       "    <tr>\n",
       "      <th>成功</th>\n",
       "      <td>193106</td>\n",
       "      <td>2397</td>\n",
       "    </tr>\n",
       "    <tr>\n",
       "      <th>失敗</th>\n",
       "      <td>1002</td>\n",
       "      <td>106423</td>\n",
       "    </tr>\n",
       "  </tbody>\n",
       "</table>\n",
       "</div>"
      ],
      "text/plain": [
       "        成功      失敗\n",
       "成功  193106    2397\n",
       "失敗    1002  106423"
      ]
     },
     "execution_count": 26,
     "metadata": {},
     "output_type": "execute_result"
    }
   ],
   "source": [
    "# 予測値と正解のクロス集計（混同行列）\n",
    "conf_mat = confusion_matrix(y_train, y_train_pred)\n",
    "conf_mat = pd.DataFrame(conf_mat,index=['成功', '失敗'],columns=['成功', '失敗'])\n",
    "conf_mat"
   ]
  },
  {
   "cell_type": "code",
   "execution_count": 27,
   "metadata": {},
   "outputs": [
    {
     "name": "stdout",
     "output_type": "stream",
     "text": [
      "正答率（Accuracy） = 98.893%\n",
      "適合率（Precision） = 99.470%\n",
      "再現率（Recall） = 98.823%\n",
      "F1値（F1-score） = 99.146%\n"
     ]
    }
   ],
   "source": [
    "# 正答率を計算\n",
    "accuracy_val =  accuracy_score(y_val, y_val_pred)\n",
    "print('正答率（Accuracy） = {:.3f}%'.format(100 * accuracy_val))\n",
    "# Precision, Recall, F1-scoreを計算\n",
    "precision_val, recall_val, f1_score_val, _ = precision_recall_fscore_support(y_val, y_val_pred)\n",
    "# カテゴリ「2000万以上」に関するPrecision, Recall, F1-scoreを表示\n",
    "print('適合率（Precision） = {:.3f}%'.format(100 * precision_val[0]))\n",
    "print('再現率（Recall） = {:.3f}%'.format(100 * recall_val[0]))\n",
    "print('F1値（F1-score） = {:.3f}%'.format(100 * f1_score_val[0]))"
   ]
  },
  {
   "cell_type": "code",
   "execution_count": null,
   "metadata": {},
   "outputs": [],
   "source": []
  }
 ],
 "metadata": {
  "kernelspec": {
   "display_name": "Python 3",
   "language": "python",
   "name": "python3"
  },
  "language_info": {
   "codemirror_mode": {
    "name": "ipython",
    "version": 3
   },
   "file_extension": ".py",
   "mimetype": "text/x-python",
   "name": "python",
   "nbconvert_exporter": "python",
   "pygments_lexer": "ipython3",
   "version": "3.7.3"
  }
 },
 "nbformat": 4,
 "nbformat_minor": 2
}
